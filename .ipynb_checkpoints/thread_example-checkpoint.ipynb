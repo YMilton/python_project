{
 "cells": [
  {
   "cell_type": "code",
   "execution_count": 1,
   "metadata": {},
   "outputs": [],
   "source": [
    "import time\n",
    "import datetime\n",
    "import threading"
   ]
  },
  {
   "cell_type": "code",
   "execution_count": 2,
   "metadata": {},
   "outputs": [
    {
     "name": "stdout",
     "output_type": "stream",
     "text": [
      "<Thread(Thread-6, initial)>\n",
      "<Thread(Thread-7, initial)>\n",
      "<Thread(Thread-8, initial)>\n",
      "8\n",
      "0:00:00.000996\n"
     ]
    }
   ],
   "source": [
    "def run_fun(name):\n",
    "    time.sleep(2)\n",
    "    print('task',name)\n",
    "    \n",
    "start = datetime.datetime.now()\n",
    "for i in range(3):\n",
    "    t = threading.Thread(target=run_fun,args=('thread %s'%(i+1),))\n",
    "    print(t)\n",
    "    t.start()\n",
    "    #t.join()\n",
    "#time.sleep(2)\n",
    "print(threading.active_count())\n",
    "end = datetime.datetime.now()\n",
    "print(end - start)"
   ]
  },
  {
   "cell_type": "markdown",
   "metadata": {},
   "source": [
    "### 2. 多线程例子"
   ]
  },
  {
   "cell_type": "code",
   "execution_count": 5,
   "metadata": {},
   "outputs": [
    {
     "name": "stdout",
     "output_type": "stream",
     "text": [
      "(0, 1, 4)\n",
      "(1, 4, 9)\n",
      "(4, 9, 16)\n",
      "(9, 16, 25)\n",
      "5.002551078796387\n"
     ]
    }
   ],
   "source": [
    "class MyThread(threading.Thread):\n",
    "    def __init__(self,func,args=()):\n",
    "        super(MyThread,self).__init__()\n",
    "        self.func = func\n",
    "        self.args = args\n",
    "\n",
    "    def run(self):\n",
    "        self.result = self.func(*self.args)\n",
    "\n",
    "    def get_result(self):\n",
    "        try:\n",
    "            return self.result  # 如果子线程不使用join方法，此处可能会报没有self.result的错误\n",
    "        except Exception:\n",
    "            return None\n",
    "\n",
    "\n",
    "def foo(a,b,c):\n",
    "    time.sleep(5)\n",
    "    return a**2,b**2,c**2\n",
    "\n",
    "st = time.time()\n",
    "li = []\n",
    "for i in range(4):\n",
    "    t = MyThread(foo,args=(i,i+1,i+2))\n",
    "    li.append(t)\n",
    "    t.start()\n",
    "\n",
    "for t in li:\n",
    "    t.join()  # 一定要join，不然主线程比子线程跑的快，会拿不到结果\n",
    "    print(t.get_result())\n",
    "\n",
    "et = time.time()\n",
    "print(et - st)"
   ]
  },
  {
   "cell_type": "code",
   "execution_count": null,
   "metadata": {},
   "outputs": [],
   "source": []
  }
 ],
 "metadata": {
  "kernelspec": {
   "display_name": "Python 3",
   "language": "python",
   "name": "python3"
  },
  "language_info": {
   "codemirror_mode": {
    "name": "ipython",
    "version": 3
   },
   "file_extension": ".py",
   "mimetype": "text/x-python",
   "name": "python",
   "nbconvert_exporter": "python",
   "pygments_lexer": "ipython3",
   "version": "3.6.7"
  }
 },
 "nbformat": 4,
 "nbformat_minor": 2
}
